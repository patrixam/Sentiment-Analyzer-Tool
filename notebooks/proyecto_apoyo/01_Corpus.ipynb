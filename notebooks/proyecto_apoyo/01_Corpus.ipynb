{
  "cells": [
    {
      "cell_type": "markdown",
      "metadata": {
        "id": "view-in-github",
        "colab_type": "text"
      },
      "source": [
        "<a href=\"https://colab.research.google.com/github/patrixam/Sentiment-Analyzer-Tool/blob/master/notebooks/proyecto_apoyo/01_Corpus.ipynb\" target=\"_parent\"><img src=\"https://colab.research.google.com/assets/colab-badge.svg\" alt=\"Open In Colab\"/></a>"
      ]
    },
    {
      "cell_type": "markdown",
      "source": [
        "#DATASETS"
      ],
      "metadata": {
        "id": "ACW5H2w26g7X"
      }
    },
    {
      "cell_type": "markdown",
      "source": [
        "##HUGGING FACE"
      ],
      "metadata": {
        "id": "KBemuTtC6kPO"
      }
    },
    {
      "cell_type": "code",
      "source": [
        "!pip install -U datasets"
      ],
      "metadata": {
        "id": "8sZirzR868J_"
      },
      "execution_count": null,
      "outputs": []
    },
    {
      "cell_type": "code",
      "source": [
        "from datasets import load_dataset\n",
        "\n",
        "# Cargar el dataset de MultiWOZ 2.2 desde Hugging Face\n",
        "dataset = load_dataset(\"pfb30/multi_woz_v22\", download_mode=\"force_redownload\", trust_remote_code=True)\n",
        "\n",
        "# Explorar el dataset\n",
        "print(\"Columnas:\", dataset[\"train\"].column_names)\n",
        "print(\"Ejemplo de diálogo:\")\n",
        "print(dataset[\"train\"][0])\n",
        "\n",
        "# Procesar un diálogo\n",
        "for i in range(len(dataset[\"train\"][0][\"turns\"]['speaker'])):\n",
        "    print('Speaker ', dataset[\"train\"][0][\"turns\"]['speaker'][i], \": \", dataset[\"train\"][0][\"turns\"]['utterance'][i])\n"
      ],
      "metadata": {
        "colab": {
          "base_uri": "https://localhost:8080/"
        },
        "id": "hcneycsZ60-g",
        "outputId": "0bf45049-0f77-4123-a530-84124b617d03"
      },
      "execution_count": 32,
      "outputs": [
        {
          "output_type": "stream",
          "name": "stdout",
          "text": [
            "Columnas: ['dialogue_id', 'services', 'turns']\n",
            "Ejemplo de diálogo:\n",
            "{'dialogue_id': 'PMUL4398.json', 'services': ['restaurant', 'hotel'], 'turns': {'turn_id': ['0', '1', '2', '3', '4', '5', '6', '7', '8', '9', '10', '11'], 'speaker': [0, 1, 0, 1, 0, 1, 0, 1, 0, 1, 0, 1], 'utterance': ['i need a place to dine in the center thats expensive', 'I have several options for you; do you prefer African, Asian, or British food?', 'Any sort of food would be fine, as long as it is a bit expensive. Could I get the phone number for your recommendation?', 'There is an Afrian place named Bedouin in the centre. How does that sound?', 'Sounds good, could I get that phone number? Also, could you recommend me an expensive hotel?', \"Bedouin's phone is 01223367660. As far as hotels go, I recommend the University Arms Hotel in the center of town.\", 'Yes. Can you book it for me?', 'Sure, when would you like that reservation?', 'i want to book it for 2 people and 2 nights starting from saturday.', 'Your booking was successful. Your reference number is FRGZWQL2 . May I help you further?', 'That is all I need to know. Thanks, good bye.', 'Thank you so much for Cambridge TownInfo centre. Have a great day!'], 'frames': [{'service': ['restaurant', 'hotel'], 'state': [{'active_intent': 'find_restaurant', 'requested_slots': [], 'slots_values': {'slots_values_name': ['restaurant-area', 'restaurant-pricerange'], 'slots_values_list': [['centre'], ['expensive']]}}, {'active_intent': 'find_hotel', 'requested_slots': [], 'slots_values': {'slots_values_name': [], 'slots_values_list': []}}], 'slots': [{'slot': [], 'value': [], 'start': [], 'exclusive_end': [], 'copy_from': [], 'copy_from_value': []}, {'slot': [], 'value': [], 'start': [], 'exclusive_end': [], 'copy_from': [], 'copy_from_value': []}]}, {'service': [], 'state': [], 'slots': []}, {'service': ['restaurant', 'hotel'], 'state': [{'active_intent': 'find_restaurant', 'requested_slots': ['restaurant-food'], 'slots_values': {'slots_values_name': ['restaurant-area', 'restaurant-pricerange'], 'slots_values_list': [['centre'], ['expensive']]}}, {'active_intent': 'find_hotel', 'requested_slots': [], 'slots_values': {'slots_values_name': [], 'slots_values_list': []}}], 'slots': [{'slot': [], 'value': [], 'start': [], 'exclusive_end': [], 'copy_from': [], 'copy_from_value': []}, {'slot': [], 'value': [], 'start': [], 'exclusive_end': [], 'copy_from': [], 'copy_from_value': []}]}, {'service': [], 'state': [], 'slots': []}, {'service': ['restaurant', 'hotel'], 'state': [{'active_intent': 'find_restaurant', 'requested_slots': ['restaurant-phone'], 'slots_values': {'slots_values_name': ['restaurant-area', 'restaurant-name', 'restaurant-pricerange'], 'slots_values_list': [['centre'], ['bedouin'], ['expensive']]}}, {'active_intent': 'find_hotel', 'requested_slots': [], 'slots_values': {'slots_values_name': ['hotel-pricerange', 'hotel-type'], 'slots_values_list': [['expensive'], ['hotel']]}}], 'slots': [{'slot': [], 'value': [], 'start': [], 'exclusive_end': [], 'copy_from': [], 'copy_from_value': []}, {'slot': [], 'value': [], 'start': [], 'exclusive_end': [], 'copy_from': [], 'copy_from_value': []}]}, {'service': [], 'state': [], 'slots': []}, {'service': ['hotel'], 'state': [{'active_intent': 'find_hotel', 'requested_slots': [], 'slots_values': {'slots_values_name': ['hotel-name', 'hotel-pricerange', 'hotel-type'], 'slots_values_list': [['university arms hotel'], ['expensive'], ['hotel']]}}], 'slots': [{'slot': [], 'value': [], 'start': [], 'exclusive_end': [], 'copy_from': [], 'copy_from_value': []}]}, {'service': [], 'state': [], 'slots': []}, {'service': ['hotel'], 'state': [{'active_intent': 'book_hotel', 'requested_slots': [], 'slots_values': {'slots_values_name': ['hotel-bookday', 'hotel-bookpeople', 'hotel-bookstay', 'hotel-name', 'hotel-pricerange', 'hotel-type'], 'slots_values_list': [['saturday'], ['2'], ['2'], ['university arms hotel'], ['expensive'], ['hotel']]}}], 'slots': [{'slot': [], 'value': [], 'start': [], 'exclusive_end': [], 'copy_from': [], 'copy_from_value': []}]}, {'service': [], 'state': [], 'slots': []}, {'service': [], 'state': [], 'slots': []}, {'service': [], 'state': [], 'slots': []}], 'dialogue_acts': [{'dialog_act': {'act_type': ['Restaurant-Inform'], 'act_slots': [{'slot_name': ['area', 'pricerange'], 'slot_value': ['centre', 'expensive']}]}, 'span_info': {'act_type': ['Restaurant-Inform', 'Restaurant-Inform'], 'act_slot_name': ['area', 'pricerange'], 'act_slot_value': ['centre', 'expensive'], 'span_start': [30, 43], 'span_end': [36, 52]}}, {'dialog_act': {'act_type': ['Restaurant-Inform', 'Restaurant-Select'], 'act_slots': [{'slot_name': ['choice'], 'slot_value': ['several']}, {'slot_name': ['food', 'food', 'food'], 'slot_value': ['African', 'Asian', 'British']}]}, 'span_info': {'act_type': ['Restaurant-Inform', 'Restaurant-Select', 'Restaurant-Select', 'Restaurant-Select'], 'act_slot_name': ['choice', 'food', 'food', 'food'], 'act_slot_value': ['several', 'African', 'Asian', 'British'], 'span_start': [7, 46, 55, 65], 'span_end': [14, 53, 60, 72]}}, {'dialog_act': {'act_type': ['Restaurant-Request'], 'act_slots': [{'slot_name': ['food'], 'slot_value': ['?']}]}, 'span_info': {'act_type': [], 'act_slot_name': [], 'act_slot_value': [], 'span_start': [], 'span_end': []}}, {'dialog_act': {'act_type': ['Restaurant-Inform'], 'act_slots': [{'slot_name': ['area', 'food', 'name'], 'slot_value': ['centre', 'Afrian', 'Bedouin']}]}, 'span_info': {'act_type': ['Restaurant-Inform', 'Restaurant-Inform', 'Restaurant-Inform'], 'act_slot_name': ['food', 'name', 'area'], 'act_slot_value': ['Afrian', 'Bedouin', 'centre'], 'span_start': [12, 31, 46], 'span_end': [18, 38, 52]}}, {'dialog_act': {'act_type': ['Hotel-Inform', 'Restaurant-Request'], 'act_slots': [{'slot_name': ['pricerange', 'type'], 'slot_value': ['expensive', 'hotel']}, {'slot_name': ['phone'], 'slot_value': ['?']}]}, 'span_info': {'act_type': ['Hotel-Inform', 'Hotel-Inform'], 'act_slot_name': ['pricerange', 'type'], 'act_slot_value': ['expensive', 'hotel'], 'span_start': [76, 86], 'span_end': [85, 91]}}, {'dialog_act': {'act_type': ['Hotel-Recommend', 'Restaurant-Inform'], 'act_slots': [{'slot_name': ['area', 'name'], 'slot_value': ['center of town', 'the University Arms Hotel']}, {'slot_name': ['name', 'phone'], 'slot_value': ['Bedouin', '01223367660']}]}, 'span_info': {'act_type': ['Restaurant-Inform', 'Restaurant-Inform', 'Hotel-Recommend', 'Hotel-Recommend'], 'act_slot_name': ['name', 'phone', 'name', 'area'], 'act_slot_value': ['Bedouin', '01223367660', 'the University Arms Hotel', 'center of town'], 'span_start': [0, 19, 65, 98], 'span_end': [7, 30, 90, 112]}}, {'dialog_act': {'act_type': ['Hotel-Inform'], 'act_slots': [{'slot_name': ['none'], 'slot_value': ['none']}]}, 'span_info': {'act_type': [], 'act_slot_name': [], 'act_slot_value': [], 'span_start': [], 'span_end': []}}, {'dialog_act': {'act_type': ['Booking-Request'], 'act_slots': [{'slot_name': ['bookday'], 'slot_value': ['?']}]}, 'span_info': {'act_type': [], 'act_slot_name': [], 'act_slot_value': [], 'span_start': [], 'span_end': []}}, {'dialog_act': {'act_type': ['Hotel-Inform'], 'act_slots': [{'slot_name': ['bookday', 'bookpeople', 'bookstay'], 'slot_value': ['saturday', '2', '2']}]}, 'span_info': {'act_type': ['Hotel-Inform', 'Hotel-Inform', 'Hotel-Inform'], 'act_slot_name': ['bookstay', 'bookpeople', 'bookday'], 'act_slot_value': ['2', '2', 'saturday'], 'span_start': [22, 35, 58], 'span_end': [23, 36, 66]}}, {'dialog_act': {'act_type': ['Booking-Book', 'general-reqmore'], 'act_slots': [{'slot_name': ['ref'], 'slot_value': ['FRGZWQL2']}, {'slot_name': ['none'], 'slot_value': ['none']}]}, 'span_info': {'act_type': ['Booking-Book'], 'act_slot_name': ['ref'], 'act_slot_value': ['FRGZWQL2'], 'span_start': [54], 'span_end': [62]}}, {'dialog_act': {'act_type': ['general-bye'], 'act_slots': [{'slot_name': ['none'], 'slot_value': ['none']}]}, 'span_info': {'act_type': [], 'act_slot_name': [], 'act_slot_value': [], 'span_start': [], 'span_end': []}}, {'dialog_act': {'act_type': ['general-bye', 'general-welcome'], 'act_slots': [{'slot_name': ['none'], 'slot_value': ['none']}, {'slot_name': ['none'], 'slot_value': ['none']}]}, 'span_info': {'act_type': [], 'act_slot_name': [], 'act_slot_value': [], 'span_start': [], 'span_end': []}}]}}\n",
            "Speaker  0 :  i need a place to dine in the center thats expensive\n",
            "Speaker  1 :  I have several options for you; do you prefer African, Asian, or British food?\n",
            "Speaker  0 :  Any sort of food would be fine, as long as it is a bit expensive. Could I get the phone number for your recommendation?\n",
            "Speaker  1 :  There is an Afrian place named Bedouin in the centre. How does that sound?\n",
            "Speaker  0 :  Sounds good, could I get that phone number? Also, could you recommend me an expensive hotel?\n",
            "Speaker  1 :  Bedouin's phone is 01223367660. As far as hotels go, I recommend the University Arms Hotel in the center of town.\n",
            "Speaker  0 :  Yes. Can you book it for me?\n",
            "Speaker  1 :  Sure, when would you like that reservation?\n",
            "Speaker  0 :  i want to book it for 2 people and 2 nights starting from saturday.\n",
            "Speaker  1 :  Your booking was successful. Your reference number is FRGZWQL2 . May I help you further?\n",
            "Speaker  0 :  That is all I need to know. Thanks, good bye.\n",
            "Speaker  1 :  Thank you so much for Cambridge TownInfo centre. Have a great day!\n"
          ]
        }
      ]
    },
    {
      "cell_type": "markdown",
      "source": [
        "##KAGGLE"
      ],
      "metadata": {
        "id": "2x3Vx7kY6mln"
      }
    },
    {
      "cell_type": "code",
      "source": [
        "!pip install kaggle\n"
      ],
      "metadata": {
        "id": "QoeWi_8U7AW3"
      },
      "execution_count": null,
      "outputs": []
    },
    {
      "cell_type": "markdown",
      "source": [
        "Usamos de ejemplo un dataset de reviews de Amazon:\n",
        "https://www.kaggle.com/datasets/kritanjalijain/amazon-reviews"
      ],
      "metadata": {
        "id": "asziipfU7JXf"
      }
    },
    {
      "cell_type": "code",
      "source": [
        "import os\n",
        "import pandas as pd\n",
        "import kagglehub\n",
        "\n",
        "# Descarga la última versión del dataset\n",
        "path = kagglehub.dataset_download(\"kritanjalijain/amazon-reviews\")\n",
        "archivos = os.listdir(path)\n",
        "print(\"Archivos disponibles en el dataset:\", archivos)\n",
        "\n",
        "# Ruta al archivo de entrenamiento (tras visualización de archivos descargados)\n",
        "archivo_train = path+\"/\"+archivos[2]\n",
        "\n",
        "# Cargar los datos en un DataFrame\n",
        "df_train = pd.read_csv(archivo_train, header=None, names=[\"sentiment\", \"review\"])\n",
        "\n",
        "# Mostrar información básica\n",
        "print(\"Primeras filas del dataset:\")\n",
        "print(df_train.head())\n",
        "\n",
        "print(\"\\nDescripción del dataset:\")\n",
        "print(df_train.describe())\n",
        "\n"
      ],
      "metadata": {
        "colab": {
          "base_uri": "https://localhost:8080/"
        },
        "id": "DAAdx4Rf7EKX",
        "outputId": "e7b45bf2-d853-437b-deb5-ece4340624a5"
      },
      "execution_count": null,
      "outputs": [
        {
          "output_type": "stream",
          "name": "stdout",
          "text": [
            "Downloading from https://www.kaggle.com/api/v1/datasets/download/kritanjalijain/amazon-reviews?dataset_version_number=2...\n"
          ]
        },
        {
          "output_type": "stream",
          "name": "stderr",
          "text": [
            "100%|██████████| 1.29G/1.29G [00:12<00:00, 113MB/s]"
          ]
        },
        {
          "output_type": "stream",
          "name": "stdout",
          "text": [
            "Extracting files...\n"
          ]
        },
        {
          "output_type": "stream",
          "name": "stderr",
          "text": [
            "\n"
          ]
        },
        {
          "output_type": "stream",
          "name": "stdout",
          "text": [
            "Archivos disponibles en el dataset: ['test.csv', 'amazon_review_polarity_csv.tgz', 'train.csv']\n",
            "Primeras filas del dataset:\n",
            "                                           sentiment  \\\n",
            "2                     Stuning even for the non-gamer   \n",
            "2              The best soundtrack ever to anything.   \n",
            "2                                           Amazing!   \n",
            "2                               Excellent Soundtrack   \n",
            "2  Remember, Pull Your Jaw Off The Floor After He...   \n",
            "\n",
            "                                              review  \n",
            "2  This sound track was beautiful! It paints the ...  \n",
            "2  I'm reading a lot of reviews saying that this ...  \n",
            "2  This soundtrack is my favorite music of all ti...  \n",
            "2  I truly like this soundtrack and I enjoy video...  \n",
            "2  If you've played the game, you know how divine...  \n",
            "\n",
            "Descripción del dataset:\n",
            "           sentiment                                             review\n",
            "count        3599793                                            3600000\n",
            "unique       2628752                                            3594783\n",
            "top     Disappointed  I bought a QPS back in April, I had configurat...\n",
            "freq            9623                                                 15\n"
          ]
        }
      ]
    },
    {
      "cell_type": "code",
      "source": [
        "# Verificar la distribución de clases\n",
        "print(\"Distribución de clases:\")\n",
        "print(df_train[\"sentiment\"].value_counts())"
      ],
      "metadata": {
        "colab": {
          "base_uri": "https://localhost:8080/"
        },
        "id": "EQBIlduEIQdI",
        "outputId": "64eae329-35d3-4e82-8721-f8b3843158f9"
      },
      "execution_count": null,
      "outputs": [
        {
          "output_type": "stream",
          "name": "stdout",
          "text": [
            "Distribución de clases:\n",
            "sentiment\n",
            "Disappointed                                                9623\n",
            "Disappointing                                               9169\n",
            "Excellent                                                   4367\n",
            "Great                                                       3530\n",
            "Don't waste your money                                      3201\n",
            "                                                            ... \n",
            "Overrated, boring, behind the times, irrelevant                1\n",
            "Too much time for first magazine and still waiting !!!!!       1\n",
            "TAKES TOO LONG TO RECEIVE                                      1\n",
            "Socialism                                                      1\n",
            "Makes My Blood Run Red-White-And-Blue                          1\n",
            "Name: count, Length: 2628752, dtype: int64\n"
          ]
        }
      ]
    },
    {
      "cell_type": "markdown",
      "source": [
        "##PAPERSWITHCODE"
      ],
      "metadata": {
        "id": "ORfASHeB6rbn"
      }
    },
    {
      "cell_type": "code",
      "source": [
        "import requests\n",
        "import zipfile\n",
        "import os\n",
        "\n",
        "# Descargar el dataset de IMDB desde Papers with Code (enlace directo)\n",
        "url = \"https://ai.stanford.edu/~amaas/data/sentiment/aclImdb_v1.tar.gz\"\n",
        "dataset_path = \"imdb_dataset.tar.gz\"\n",
        "\n",
        "# Descargar el archivo\n",
        "response = requests.get(url, stream=True)\n",
        "with open(dataset_path, \"wb\") as f:\n",
        "    for chunk in response.iter_content(chunk_size=8192):\n",
        "        f.write(chunk)\n",
        "\n",
        "# Descomprimir el archivo\n",
        "import tarfile\n",
        "with tarfile.open(dataset_path, \"r:gz\") as tar:\n",
        "    tar.extractall(path=\"imdb_dataset\")\n",
        "\n",
        "# Leer un ejemplo\n",
        "data_dir = \"imdb_dataset/aclImdb/train/pos\"\n",
        "example_file = os.listdir(data_dir)[0]\n",
        "with open(os.path.join(data_dir, example_file), \"r\", encoding=\"utf-8\") as f:\n",
        "    print(f\"Ejemplo de opinión positiva:\\n{f.read()}\")\n"
      ],
      "metadata": {
        "colab": {
          "base_uri": "https://localhost:8080/"
        },
        "id": "buP1knYa-yfY",
        "outputId": "02e7f951-2659-4bfb-de3e-37b08d27e7cf"
      },
      "execution_count": null,
      "outputs": [
        {
          "output_type": "stream",
          "name": "stdout",
          "text": [
            "Ejemplo de opinión positiva:\n",
            "I can't remember many details about the show, but i remember how passionate i was about it and how i was determined not to miss any episodes. Unfortunately at the time we had no VCR, so i haven't ever seen the series again. However i can remember strongly how i felt while watching it and how thrilled i was every time it came on. Sam Waterstone was my favorite actor these days (i think i was almost in love) and he remains one of my favorite actors to the day, mostly due to his appearance in the series. I would gladly buy/steal/download this series, i think i would go to great lengths in order to see it again and revisit a childhood long gone... Any ideas? Does anybody knows of a site devoted to the series or has the episodes on tape from their first airing?\n"
          ]
        }
      ]
    },
    {
      "cell_type": "markdown",
      "source": [
        "#SCRAPPING"
      ],
      "metadata": {
        "id": "-50nh0R9OHHE"
      }
    },
    {
      "cell_type": "markdown",
      "source": [
        "##BEAUTIFULSOUP"
      ],
      "metadata": {
        "id": "acPUrmL7JGwx"
      }
    },
    {
      "cell_type": "code",
      "source": [
        "import requests\n",
        "from bs4 import BeautifulSoup\n",
        "\n",
        "def get_boe_dispositions(query):\n",
        "    # URL base para realizar la búsqueda en el BOE\n",
        "    url = f\"https://www.boe.es/buscar/legislacion.php?campo%5B2%5D=TITULOS&dato%5B2%5D={query}&accion=Buscar\"\n",
        "    # Realizar la solicitud a la página\n",
        "    response = requests.get(url)\n",
        "    if response.status_code == 200:\n",
        "        # Parsear el HTML de la página\n",
        "        soup = BeautifulSoup(response.content, \"html.parser\")\n",
        "\n",
        "        # Buscar las disposiciones dentro del HTML\n",
        "        results = soup.find_all(\"li\", class_=\"resultado-busqueda\")\n",
        "\n",
        "        dispositions = []\n",
        "        for result in results:\n",
        "            # Extraer el título\n",
        "            title_tag = result.find(\"h3\")\n",
        "            title = title_tag.get_text(strip=True) if title_tag else \"Título no disponible\"\n",
        "\n",
        "            # Extraer el resumen\n",
        "            summary_tag = result.find(\"p\")\n",
        "            summary = summary_tag.get_text(strip=True) if summary_tag else \"Resumen no disponible\"\n",
        "\n",
        "            # Extraer el enlace y completar la URL\n",
        "            link_tag = result.find(\"a\", class_=\"resultado-busqueda-link-defecto\")\n",
        "            link = \"https://www.boe.es\" + link_tag[\"href\"] if link_tag else \"Enlace no disponible\"\n",
        "\n",
        "            dispositions.append({\"title\": title, \"summary\": summary, \"url\": link})\n",
        "\n",
        "        return dispositions\n",
        "    else:\n",
        "        print(f\"Error al acceder al BOE: {response.status_code}\")\n",
        "        return []\n",
        "\n",
        "# Probar con una consulta específica\n",
        "query = \"teletrabajo\"\n",
        "boe_dispositions = get_boe_dispositions(query)\n",
        "\n",
        "# Mostrar resultados\n",
        "for i, disposition in enumerate(boe_dispositions, 1):\n",
        "    print(f\"{i}. {disposition['title']}\")\n",
        "    print(f\"   Resumen: {disposition['summary']}\")\n",
        "    print(f\"   URL: {disposition['url']}\\n\")\n",
        "\n"
      ],
      "metadata": {
        "colab": {
          "base_uri": "https://localhost:8080/"
        },
        "id": "EQzJnjctJMkI",
        "outputId": "51091657-743a-4a8b-dd01-b7c732e22d66"
      },
      "execution_count": null,
      "outputs": [
        {
          "output_type": "stream",
          "name": "stdout",
          "text": [
            "1. Ministerio de Trabajo y Economía Social (BOE 288 de 02/12/2021)\n",
            "   Resumen: Resolución de 18 de noviembre de 2021, de la Dirección General de Trabajo, por la que se registra y publica el Acuerdo de modificación del artículo 40 del Convenio colectivo de Orange Espagne, SAU.\n",
            "   URL: https://www.boe.es../buscar/doc.php?id=BOE-A-2021-19976\n",
            "\n",
            "2. Ministerio de Trabajo y Economía Social (BOE 13 de 15/01/2022)\n",
            "   Resumen: Resolución de 29 de diciembre de 2021, de la Dirección General de Trabajo, por la que se registra y publica el Acuerdo de modificación del Convenio colectivo de Orange España Comunicaciones Fijas, SLU.\n",
            "   URL: https://www.boe.es../buscar/doc.php?id=BOE-A-2022-653\n",
            "\n",
            "3. Ministerio de Trabajo y Economía Social (BOE 77 de 31/03/2023)\n",
            "   Resumen: Resolución de 21 de marzo de 2023, de la Dirección General de Trabajo, por la que se registra y publica la prorroga y modificación del IV Convenio Colectivo de Orange Espagne, SAU.\n",
            "   URL: https://www.boe.es../buscar/doc.php?id=BOE-A-2023-8187\n",
            "\n",
            "4. Ministerio de Administraciones Públicas (BOE 149 de 23/06/2006)\n",
            "   Resumen: Orden APU/1981/2006, de 21 de junio, por la que se promueve la implantación de programas piloto de teletrabajo en los departamentos ministeriales.\n",
            "   URL: https://www.boe.es../buscar/doc.php?id=BOE-A-2006-11202\n",
            "\n",
            "5. Ministerio de Trabajo y Economía Social (BOE 77 de 31/03/2023)\n",
            "   Resumen: Resolución de 21 de marzo de 2023, de la Dirección General de Trabajo, por la que se registra y publica la derogación y sustitución de los artículos 2, 27, 31, 37 y 40, la modificación del artículo 7, mediante la adición de la disposición adicional segunda, y la creación de la nueva disposición adicional tercera del I Convenio Colectivo de Orange España Comunicaciones Fijas, SLU.\n",
            "   URL: https://www.boe.es../buscar/doc.php?id=BOE-A-2023-8184\n",
            "\n",
            "6. Ministerio de Asuntos Exteriores, Unión Europea y Cooperación (BOE 185 de 04/08/2023)\n",
            "   Resumen: Acuerdo marco relativo a la aplicación del apartado 1 del artículo 16 del Reglamento (CE) n.º 883/2004 en los casos de teletrabajo transfronterizo habitual.\n",
            "   URL: https://www.boe.es../buscar/doc.php?id=BOE-A-2023-17874\n",
            "\n",
            "7. Ministerio de Trabajo y Asuntos Sociales (BOE 263 de 03/11/2006)\n",
            "   Resumen: Resolución de 10 de octubre de 2006, de la Dirección General de Trabajo, por la que se dispone la inscripción en el registro y publicación de diversos Acuerdos que pasan a formar parte del Convenio colectivo de Telefónica de España, S.A.U.\n",
            "   URL: https://www.boe.es../buscar/doc.php?id=BOE-A-2006-19155\n",
            "\n",
            "8. Ministerio de Justicia (BOE 159 de 06/06/2020)\n",
            "   Resumen: Orden JUS/504/2020, de 5 de junio, por la que se activa la Fase 3 del Plan de Desescalada para la Administración de Justicia ante el COVID-19.\n",
            "   URL: https://www.boe.es../buscar/doc.php?id=BOE-A-2020-5764\n",
            "\n",
            "9. Ministerio de Trabajo y Economía Social (BOE 273 de 15/11/2023)\n",
            "   Resumen: Resolución de 3 de noviembre de 2023, de la Dirección General de Trabajo, por la que se registra y publica la modificación del II Convenio colectivo estatal de acción e intervención social.\n",
            "   URL: https://www.boe.es../buscar/doc.php?id=BOE-A-2023-23191\n",
            "\n",
            "10. Ministerio de Trabajo y Economía Social (BOE 176 de 23/07/2022)\n",
            "   Resumen: Resolución de 12 de julio de 2022, de la Dirección General de Trabajo, por la que se registra y publica el Acuerdo de prórroga y modificación del IV Convenio colectivo de Axión Infraestructuras de Telecomunicaciones, SAU.\n",
            "   URL: https://www.boe.es../buscar/doc.php?id=BOE-A-2022-12269\n",
            "\n",
            "11. Ministerio de Trabajo y Economía Social (BOE 299 de 15/12/2021)\n",
            "   Resumen: Resolución de 2 de diciembre de 2021, de la Dirección General de Trabajo, por la que se registra y publica el Acuerdo parcial por el que se modifica el VIII Convenio colectivo de Telefónica On The Spot Services, SAU.\n",
            "   URL: https://www.boe.es../buscar/doc.php?id=BOE-A-2021-20696\n",
            "\n",
            "12. Ministerio de Trabajo y Economía Social (BOE 113 de 12/05/2022)\n",
            "   Resumen: Resolución de 22 de abril de 2022, de la Dirección General de Trabajo, por la que se registra y publica el Acuerdo de teletrabajo y otras formas de flexibilidad que modifica el VI Convenio colectivo de la empresa Telefónica Servicios Audiovisuales, SAU.\n",
            "   URL: https://www.boe.es../buscar/doc.php?id=BOE-A-2022-7754\n",
            "\n",
            "13. Ministerio de Trabajo y Economía Social (BOE 88 de 13/04/2022)\n",
            "   Resumen: Resolución de 31 de marzo de 2022, de la Dirección General de Trabajo, por la que se registran y publican los Acuerdos de prórroga y modificación del Convenio colectivo de Teleinformática y Comunicaciones, SAU.\n",
            "   URL: https://www.boe.es../buscar/doc.php?id=BOE-A-2022-6086\n",
            "\n",
            "14. Jefatura del Estado (BOE 259 de 30/09/2020)\n",
            "   Resumen: Real Decreto-ley 29/2020, de 29 de septiembre, de medidas urgentes en materia de teletrabajo en las Administraciones Públicas y de recursos humanos en el Sistema Nacional de Salud para hacer frente a la crisis sanitaria ocasionada por la COVID-19.\n",
            "   URL: https://www.boe.es../buscar/doc.php?id=BOE-A-2020-11415\n",
            "\n",
            "15. Ministerio de Justicia (BOE 253 de 23/09/2020)\n",
            "   Resumen: Resolución de 11 de septiembre de 2020, de la Dirección General de Seguridad Jurídica y Fe Pública, por la que se acuerda el restablecimiento de medidas por rebrotes de COVID-19 en el Registro de Lorca n.º 1.\n",
            "   URL: https://www.boe.es../buscar/doc.php?id=BOE-A-2020-11089\n",
            "\n",
            "16. Cortes Generales (BOE 279 de 22/10/2020)\n",
            "   Resumen: Resolución de 15 de octubre de 2020, del Congreso de los Diputados, por la que se ordena la publicación del Acuerdo de convalidación del Real Decreto-ley 29/2020, de 29 de septiembre, de medidas urgentes en materia de teletrabajo en las Administraciones Públicas y de recursos humanos en el Sistema Nacional de Salud para hacer frente a la crisis sanitaria ocasionada por la COVID-19.\n",
            "   URL: https://www.boe.es../buscar/doc.php?id=BOE-A-2020-12690\n",
            "\n",
            "17. Ministerio de Trabajo y Economía Social (BOE 209 de 01/09/2021)\n",
            "   Resumen: Resolución de 19 de agosto de 2021, de la Dirección General de Trabajo, por la que se registran y publican los acuerdos de modificación y prórroga del II Convenio colectivo de Telefónica de España, SAU, Telefónica Móviles España, SAU y Telefónica Soluciones de Informática y Comunicaciones de España, SAU.\n",
            "   URL: https://www.boe.es../buscar/doc.php?id=BOE-A-2021-14398\n",
            "\n",
            "18. Ministerio de Justicia (BOE 211 de 05/08/2020)\n",
            "   Resumen: Resolución de 27 de julio de 2020, de la Dirección General de Seguridad Jurídica y Fe Pública, por la que se acuerda el restablecimiento de medidas en caso de rebrotes de COVID-19 en el Registro de Totana.\n",
            "   URL: https://www.boe.es../buscar/doc.php?id=BOE-A-2020-9199\n",
            "\n",
            "19. Ministerio de Trabajo y Economía Social (BOE 255 de 25/10/2023)\n",
            "   Resumen: Resolución de 10 de octubre de 2023, de la Dirección General de Trabajo, por la que se registra y publica el Convenio colectivo de Michelin España Portugal, SA, para los centros de trabajo de Tres Cantos (Madrid) e Illescas (Toledo).\n",
            "   URL: https://www.boe.es../buscar/doc.php?id=BOE-A-2023-21915\n",
            "\n",
            "20. Ministerio de Justicia (BOE 201 de 24/07/2020)\n",
            "   Resumen: Resolución de 21 de julio de 2020, de la Dirección General de Seguridad Jurídica y Fe Pública, por la que se acuerda el restablecimiento de medidas en caso de rebrotes de COVID-19.\n",
            "   URL: https://www.boe.es../buscar/doc.php?id=BOE-A-2020-8491\n",
            "\n",
            "21. Ministerio de Trabajo y Economía Social (BOE 10 de 11/01/2024)\n",
            "   Resumen: Resolución de 29 de diciembre de 2023, de la Dirección General de Trabajo, por la que se registra y publica la modificación del Convenio colectivo de NCR España, SL.\n",
            "   URL: https://www.boe.es../buscar/doc.php?id=BOE-A-2024-650\n",
            "\n",
            "22. Ministerio de Trabajo y Economía Social (BOE 261 de 31/10/2022)\n",
            "   Resumen: Resolución de 18 de octubre de 2022, de la Dirección General de Trabajo, por la que se registra y publica el Convenio colectivo de Ercros, SA.\n",
            "   URL: https://www.boe.es../buscar/doc.php?id=BOE-A-2022-17792\n",
            "\n",
            "23. Ministerio de Empleo y Seguridad Social (BOE 99 de 25/04/2015)\n",
            "   Resumen: Resolución de 14 de abril de 2015, de la Dirección General de Empleo, por la que se registra y publica el III Convenio colectivo de Nokia Solutions and Networks Spain, SL.\n",
            "   URL: https://www.boe.es../buscar/doc.php?id=BOE-A-2015-4537\n",
            "\n",
            "24. Ministerio de Trabajo y Economía Social (BOE 88 de 11/04/2025)\n",
            "   Resumen: Resolución de 31 de marzo de 2025, de la Dirección General de Trabajo, por la que se registran y publican las tablas salariales definitivas y la revisión de los conceptos económicos relativos a las dietas y locomoción y al teletrabajo para el año 2024 del VII Convenio colectivo estatal para despachos de técnicos tributarios y asesores fiscales.\n",
            "   URL: https://www.boe.es../buscar/doc.php?id=BOE-A-2025-7400\n",
            "\n",
            "25. Ministerio de Trabajo y Asuntos Sociales (BOE 47 de 24/02/2003)\n",
            "   Resumen: Resolución de 31 de enero de 2003, de la Dirección General de Trabajo, por la que se dispone la inscripción en el Registro y publicación del Acuerdo Interconfederal para la Negociación Colectiva 2003 (ANC 2003).\n",
            "   URL: https://www.boe.es../buscar/doc.php?id=BOE-A-2003-3826\n",
            "\n",
            "26. Ministerio de Trabajo y Economía Social (BOE 128 de 30/05/2022)\n",
            "   Resumen: Resolución de 17 de mayo de 2022, de la Dirección General de Trabajo, por la que se registra y publica el Acuerdo de modificación y prórroga del Convenio colectivo del grupo Cepsa.\n",
            "   URL: https://www.boe.es../buscar/doc.php?id=BOE-A-2022-8780\n",
            "\n",
            "27. Ministerio de Trabajo y Economía Social (BOE 183 de 01/08/2022)\n",
            "   Resumen: Resolución de 19 de julio de 2022, de la Dirección General de Trabajo, por la que se registra y publica el Acuerdo de modificación del II Convenio colectivo de Total España, SAU.\n",
            "   URL: https://www.boe.es../buscar/doc.php?id=BOE-A-2022-12892\n",
            "\n",
            "28. Ministerio de Trabajo y Economía Social (BOE 286 de 27/11/2024)\n",
            "   Resumen: Resolución de 19 de noviembre de 2024, de la Dirección General de Trabajo, por la que se registra y publica el I Convenio colectivo de Atos Major Events, SL.\n",
            "   URL: https://www.boe.es../buscar/doc.php?id=BOE-A-2024-24737\n",
            "\n",
            "29. Ministerio de Trabajo y Economía Social (BOE 259 de 30/10/2023)\n",
            "   Resumen: Resolución de 18 de octubre de 2023, de la Dirección General de Trabajo, por la que se registra y publica el Convenio colectivo de Michelín España Portugal, SA.\n",
            "   URL: https://www.boe.es../buscar/doc.php?id=BOE-A-2023-22201\n",
            "\n",
            "30. Ministerio de Trabajo y Economía Social (BOE 117 de 17/05/2022)\n",
            "   Resumen: Resolución de 3 de mayo de 2022, de la Dirección General de Trabajo, por la que se registra y publica el Convenio colectivo de Zucchetti Software Spain, SLU, para sus centros de trabajo en Derio, Donostia, Logroño y Ermua.\n",
            "   URL: https://www.boe.es../buscar/doc.php?id=BOE-A-2022-8111\n",
            "\n",
            "31. Ministerio de Trabajo y Economía Social (BOE 247 de 15/10/2021)\n",
            "   Resumen: Resolución de 5 de octubre de 2021, de la Dirección General de Trabajo, por la que se registra y publica el Convenio colectivo para los establecimientos financieros de crédito.\n",
            "   URL: https://www.boe.es../buscar/doc.php?id=BOE-A-2021-16788\n",
            "\n",
            "32. Ministerio de Trabajo y Economía Social (BOE 175 de 24/07/2023)\n",
            "   Resumen: Resolución de 13 de julio de 2023, de la Dirección General de Trabajo, por la que se registra y publica el Convenio colectivo para los establecimientos financieros de crédito.\n",
            "   URL: https://www.boe.es../buscar/doc.php?id=BOE-A-2023-17044\n",
            "\n",
            "33. Ministerio de Trabajo y Economía Social (BOE 311 de 28/12/2022)\n",
            "   Resumen: Resolución de 15 de diciembre de 2022, de la Dirección General de Trabajo, por la que se registra y publica el Convenio colectivo para los establecimientos financieros de crédito.\n",
            "   URL: https://www.boe.es../buscar/doc.php?id=BOE-A-2022-23016\n",
            "\n",
            "34. Ministerio de Trabajo y Economía Social (BOE 172 de 17/07/2024)\n",
            "   Resumen: Resolución de 3 de julio de 2024, de la Dirección General de Trabajo, por la que se registra y publica el Convenio colectivo para los establecimientos financieros de crédito.\n",
            "   URL: https://www.boe.es../buscar/doc.php?id=BOE-A-2024-14717\n",
            "\n",
            "35. Ministerio de Trabajo y Economía Social (BOE 95 de 18/04/2024)\n",
            "   Resumen: Resolución de 5 de abril de 2024, de la Dirección General de Trabajo, por la que se registran y publican las tablas salariales definitivas del año 2023, las tablas iniciales de 2024 y la revisión de conceptos económicos del VII Convenio colectivo estatal para despachos de técnicos tributarios y asesores fiscales.\n",
            "   URL: https://www.boe.es../buscar/doc.php?id=BOE-A-2024-7783\n",
            "\n",
            "36. Ministerio de Empleo y Seguridad Social (BOE 127 de 25/05/2018)\n",
            "   Resumen: Resolución de 16 de mayo de 2018, de la Dirección General de Empleo, por la que se registra y publica el Plan de Igualdad de Fidelis Servicios Integrales, SLU.\n",
            "   URL: https://www.boe.es../buscar/doc.php?id=BOE-A-2018-6978\n",
            "\n",
            "37. Ministerio de Trabajo y Economía Social (BOE 207 de 27/08/2024)\n",
            "   Resumen: Resolución de 12 de agosto de 2024, de la Dirección General de Trabajo, por la que se registra y publica el Convenio colectivo de empresas vinculadas Bolsas y Mercados Españoles.\n",
            "   URL: https://www.boe.es../buscar/doc.php?id=BOE-A-2024-17358\n",
            "\n",
            "38. Ministerio de Empleo y Seguridad Social (BOE 156 de 01/07/2013)\n",
            "   Resumen: Resolución de 11 de junio de 2013, de la Dirección General de Empleo, por la que se registra y publica el II Convenio colectivo del Grupo ONO (Cableuropa, SAU y Tenaria, SA).\n",
            "   URL: https://www.boe.es../buscar/doc.php?id=BOE-A-2013-7150\n",
            "\n",
            "39. Ministerio de Trabajo y Economía Social (BOE 128 de 27/05/2024)\n",
            "   Resumen: Resolución de 16 de mayo de 2024, de la Dirección General de Trabajo, por la que se registra y publica el Convenio colectivo de Siemens Energy, SA.\n",
            "   URL: https://www.boe.es../buscar/doc.php?id=BOE-A-2024-10661\n",
            "\n",
            "40. Ministerio de Trabajo y Economía Social (BOE 255 de 25/10/2023)\n",
            "   Resumen: Resolución de 5 de octubre de 2023, de la Dirección General de Trabajo, por la que se registra y publica el IV Convenio colectivo de Dealz España, SLU.\n",
            "   URL: https://www.boe.es../buscar/doc.php?id=BOE-A-2023-21912\n",
            "\n",
            "41. Ministerio de Justicia (BOE 145 de 23/05/2020)\n",
            "   Resumen: Orden JUS/430/2020, de 22 de mayo, por la que se activa la Fase 2 del Plan de Desescalada para la Administración de Justicia ante el COVID-19.\n",
            "   URL: https://www.boe.es../buscar/doc.php?id=BOE-A-2020-5241\n",
            "\n",
            "42. Ministerio de Trabajo, Migraciones y Seguridad Social (BOE 76 de 29/03/2019)\n",
            "   Resumen: Resolución de 19 de marzo de 2019, de la Dirección General de Trabajo, por la que se registra y publica el Acta del acuerdo de modificación del Convenio colectivo de Marítima Dávila, SA, y sociedades vinculadas.\n",
            "   URL: https://www.boe.es../buscar/doc.php?id=BOE-A-2019-4626\n",
            "\n",
            "43. Ministerio de Empleo y Seguridad Social (BOE 198 de 17/08/2016)\n",
            "   Resumen: Resolución de 4 de agosto de 2016, de la Dirección General de Empleo, por la que se registra y publica el Convenio colectivo de Teleinformática y Comunicaciones, SAU.\n",
            "   URL: https://www.boe.es../buscar/doc.php?id=BOE-A-2016-7933\n",
            "\n",
            "44. Ministerio de Trabajo y Economía Social (BOE 180 de 26/07/2024)\n",
            "   Resumen: Resolución de 15 de julio de 2024, de la Dirección General de Trabajo, por la que se registra y publica el Convenio colectivo de las escuelas italianas en España.\n",
            "   URL: https://www.boe.es../buscar/doc.php?id=BOE-A-2024-15497\n",
            "\n",
            "45. Ministerio de Trabajo y Economía Social (BOE 223 de 17/09/2021)\n",
            "   Resumen: Resolución de 3 de septiembre de 2021, de la Dirección General de Trabajo, por la que se registra y publica el II Convenio colectivo de la Comisión Española de Ayuda al Refugiado.\n",
            "   URL: https://www.boe.es../buscar/doc.php?id=BOE-A-2021-15126\n",
            "\n",
            "46. Ministerio de Trabajo y Economía Social (BOE 277 de 20/11/2023)\n",
            "   Resumen: Resolución de 7 de noviembre de 2023, de la Dirección General de Trabajo, por la que se registra y publica la modificación del Convenio colectivo de Transcat, SL.\n",
            "   URL: https://www.boe.es../buscar/doc.php?id=BOE-A-2023-23515\n",
            "\n",
            "47. Ministerio de Trabajo y Economía Social (BOE 211 de 03/09/2021)\n",
            "   Resumen: Resolución de 19 de agosto de 2021, de la Dirección General de Trabajo, por la que se registra y publica el Acuerdo de modificación y tablas salariales para los años 2021 y 2022 del Convenio colectivo de IQVIA Information, SA.\n",
            "   URL: https://www.boe.es../buscar/doc.php?id=BOE-A-2021-14507\n",
            "\n",
            "48. Ministerio de Trabajo y Economía Social (BOE 4 de 05/01/2023)\n",
            "   Resumen: Resolución de 16 de diciembre de 2022, de la Dirección General de Trabajo, por la que se registran y publican los Acuerdos de modificación y tablas salariales para los años 2022 y 2023 del Convenio colectivo de IQVIA Information, SA.\n",
            "   URL: https://www.boe.es../buscar/doc.php?id=BOE-A-2023-342\n",
            "\n",
            "49. Ministerio de Trabajo y Economía Social (BOE 173 de 22/06/2020)\n",
            "   Resumen: Resolución de 11 de junio de 2020, de la Dirección General de Trabajo, por la que se registra y publica el Convenio colectivo de Teleinformática y Comunicaciones, SAU.\n",
            "   URL: https://www.boe.es../buscar/doc.php?id=BOE-A-2020-6569\n",
            "\n",
            "50. Ministerio de Trabajo e Inmigración (BOE 81 de 03/04/2010)\n",
            "   Resumen: Resolución de 10 de marzo de 2010, de la Dirección General de Trabajo, por la que se registra y publica el I Convenio colectivo de Cableuropa, SAU y Tenaria, S.A. (Grupo ONO).\n",
            "   URL: https://www.boe.es../buscar/doc.php?id=BOE-A-2010-5416\n",
            "\n"
          ]
        }
      ]
    },
    {
      "cell_type": "code",
      "source": [
        "import requests\n",
        "from bs4 import BeautifulSoup\n",
        "\n",
        "# URL del sitio web de 20 Minutos\n",
        "url = \"https://www.20minutos.es/\"\n",
        "\n",
        "# Hacer una solicitud GET\n",
        "respuesta = requests.get(url)\n",
        "\n",
        "# Verificar el estado de la solicitud\n",
        "if respuesta.status_code == 200:\n",
        "    # Analizar el HTML con BeautifulSoup\n",
        "    soup = BeautifulSoup(respuesta.content, \"html.parser\")\n",
        "\n",
        "    # Buscar titulares en el sitio (ajustar según la estructura actual)\n",
        "    #titulares = soup.find_all(\"h2\")  # Ejemplo con etiquetas <h2>\n",
        "    titulares = soup.find_all(\"article\", class_=\"media\")\n",
        "\n",
        "    print(\"Titulares encontrados:\")\n",
        "    for i, titular in enumerate(titulares[:10], 1):  # Limitar a los primeros 10 titulares\n",
        "        titular_tag = titular.find(\"header\")\n",
        "        print(f\"{i}. {titular_tag.get_text(strip=True)}\")\n",
        "else:\n",
        "    print(f\"Error al acceder al sitio. Código de estado: {respuesta.status_code}\")\n"
      ],
      "metadata": {
        "colab": {
          "base_uri": "https://localhost:8080/"
        },
        "id": "e_1EAjuNQhRZ",
        "outputId": "1659ef88-bcb1-4c70-841a-da9efd8a7284"
      },
      "execution_count": 5,
      "outputs": [
        {
          "output_type": "stream",
          "name": "stdout",
          "text": [
            "Titulares encontrados:\n",
            "1. Feijóo convoca una protesta en Madrid el 8 de junio y dice que la corrupción solo saldrá de la Moncloa cuando se vaya Sánchez\n",
            "2. Calma en la Guardia Civil tras las supuestas maniobras del PSOE: \"Se va a destapar todo\"\n",
            "3. Los manifestantes piden en Moncloa ladimisión de Sánchezpor los presuntos casos de corrupción\n",
            "4. Portnov se reunió con Zelenskidos días antes de ser asesinado en Pozuelo\n",
            "5. A prisiónel ex número 2 de Interior Francisco Martínez y el 'hacker' Alcasec\n",
            "6. Sanidadprohibirá fumaren terrazas, fiestas al aire libre, universidades y vehículos de trabajo\n",
            "7. El drama de Juan Ayuso: un picotazo de abeja le deja el ojo hinchado y se retira del Giro de Italia\n",
            "8. Melody, Broncano y la salud mental:¿Hizo bien el presentador en contestar a la cantante?\n",
            "9. Estos sonlos nombres más comunesentre los recién nacidos en España, y los más repetidos entre adultos\n",
            "10. La ex de Plex, admite haber hablado con 'TardeAR' pero denuncia latergiversación de sus palabras\n"
          ]
        }
      ]
    },
    {
      "cell_type": "markdown",
      "source": [
        "##SCRAPY"
      ],
      "metadata": {
        "id": "S8WZn2MFJJ1Q"
      }
    },
    {
      "cell_type": "code",
      "source": [
        "!pip install scrapy\n"
      ],
      "metadata": {
        "id": "wLxnUobqJM7o"
      },
      "execution_count": null,
      "outputs": []
    },
    {
      "cell_type": "code",
      "source": [
        "# Crear un archivo llamado scrapy_script.py\n",
        "with open(\"scrapy_script.py\", \"w\") as file:\n",
        "    file.write(\"\"\"\n",
        "import scrapy\n",
        "\n",
        "class NoticiasSpider(scrapy.Spider):\n",
        "    name = \"noticias\"\n",
        "    start_urls = [\"https://www.20minutos.es/\"]\n",
        "\n",
        "    def parse(self, response):\n",
        "        # Extraer los artículos con la clase \"media\"\n",
        "        titulares = response.css(\"article.media header\")\n",
        "        for i, titular in enumerate(titulares[:10], 1):  # Limitar a los primeros 10\n",
        "            yield {\"Titular\": titular.css(\"::text\").get().strip()}\n",
        "    \"\"\")\n"
      ],
      "metadata": {
        "id": "d17vQP9OJawR"
      },
      "execution_count": 7,
      "outputs": []
    },
    {
      "cell_type": "code",
      "source": [
        "!scrapy runspider scrapy_script.py -o noticias.json"
      ],
      "metadata": {
        "id": "g6_SLUAFJd5p"
      },
      "execution_count": null,
      "outputs": []
    },
    {
      "cell_type": "code",
      "source": [
        "import json\n",
        "import re\n",
        "# Cargar el archivo JSON generado\n",
        "with open(\"noticias.json\", \"r\", encoding=\"utf-8\") as file:\n",
        "    contenido = file.read()\n",
        "\n",
        "# 🔹 Solución: Limpiar el JSON eliminando listas vacías y caracteres inválidos\n",
        "contenido_limpio = re.sub(r\"\\[\\s*\\]\\s*\", \"\", contenido)  # Elimina listas vacías []\n",
        "\n",
        "# Cargar el JSON limpio\n",
        "noticias = json.loads(contenido_limpio)\n",
        "\n",
        "# Mostrar los titulares\n",
        "print(\"\\n📰 **Titulares de Noticias:**\")\n",
        "for i, noticia in enumerate(noticias, 1):\n",
        "    print(f\"{i}. {noticia.get('Titular', 'Titular no disponible')}\")"
      ],
      "metadata": {
        "colab": {
          "base_uri": "https://localhost:8080/"
        },
        "id": "MY5lWoPfPfKR",
        "outputId": "32676d99-4b01-46da-b5d3-d7afa8443501"
      },
      "execution_count": 9,
      "outputs": [
        {
          "output_type": "stream",
          "name": "stdout",
          "text": [
            "\n",
            "📰 **Titulares de Noticias:**\n",
            "1. Feijóo convoca una protesta en Madrid el 8 de junio y dice que la corrupción solo saldrá de la Moncloa cuando se vaya Sánchez\n",
            "2. Calma en la Guardia Civil tras las supuestas maniobras del PSOE: \"Se va a destapar todo\"\n",
            "3. Los manifestantes piden en Moncloa la\n",
            "4. Portnov se reunió con Zelenski\n",
            "5. A prisión\n",
            "6. Sanidad\n",
            "7. El drama de Juan Ayuso\n",
            "8. Melody, Broncano y la salud mental:\n",
            "9. Estos son\n",
            "10. La ex de Plex, admite haber hablado con 'TardeAR' pero denuncia la\n"
          ]
        }
      ]
    },
    {
      "cell_type": "markdown",
      "source": [
        "##SELENIUM"
      ],
      "metadata": {
        "id": "4k5HfgP-N9hA"
      }
    },
    {
      "cell_type": "code",
      "source": [
        "!pip install selenium\n",
        "!apt-get update\n",
        "!apt install chromium-chromedriver\n"
      ],
      "metadata": {
        "id": "vfw3X4EuN_aR"
      },
      "execution_count": null,
      "outputs": []
    },
    {
      "cell_type": "code",
      "source": [
        "from selenium import webdriver\n",
        "from selenium.webdriver.common.by import By\n",
        "from selenium.webdriver.chrome.service import Service\n",
        "\n",
        "# Configuración para Colab\n",
        "options = webdriver.ChromeOptions()\n",
        "options.add_argument(\"--headless\")\n",
        "options.add_argument(\"--no-sandbox\")\n",
        "options.add_argument(\"--disable-dev-shm-usage\")\n",
        "\n",
        "driver = webdriver.Chrome(options=options)\n",
        "\n",
        "# Abrir un sitio web de ejemplo\n",
        "url = \"https://www.20minutos.es/\"\n",
        "driver.get(url)\n",
        "\n",
        "# Extraer datos dinámicos (por ejemplo, enlaces en <a>)\n",
        "enlaces = driver.find_elements(By.TAG_NAME, \"article\")\n",
        "for enlace in enlaces[:5]:  # Mostrar los primeros 5\n",
        "    print(enlace.text, enlace.get_attribute(\"header\"))\n",
        "\n",
        "# Cerrar el navegador\n",
        "driver.quit()\n"
      ],
      "metadata": {
        "colab": {
          "base_uri": "https://localhost:8080/"
        },
        "id": "I3QQYzugOAob",
        "outputId": "5183bc0e-6b7a-4c8a-f06e-90dd93b677fb"
      },
      "execution_count": 11,
      "outputs": [
        {
          "output_type": "stream",
          "name": "stdout",
          "text": [
            "Feijóo convoca una protesta en Madrid el 8 de junio y dice que la corrupción solo saldrá de la Moncloa cuando se vaya Sánchez\n",
            "BELÉN SARRIÁ\n",
            "Turull se toma a \"broma\" la propuesta de Feijóo de sumarse a la moción de censura\n",
            "Díaz reclama \"contundencia\" y depurar responsabilidades contra Leire Díez None\n",
            "Calma en la Guardia Civil tras las supuestas maniobras del PSOE: \"Se va a destapar todo\"\n",
            "JACOBO ALCUTÉN None\n",
            "Los manifestantes piden en Moncloa la dimisión de Sánchez por los presuntos casos de corrupción\n",
            "A .S.Hace 6 minutos\n",
            "Lambán pide a Sánchez que convoque elecciones: \"Yo acabaría con esta agonía\" None\n",
            "Portnov se reunió con Zelenski dos días antes de ser asesinado en Pozuelo None\n",
            "A prisión el ex número 2 de Interior Francisco Martínez y el 'hacker' Alcasec\n",
            "PEDRO BUENAVENTURA None\n"
          ]
        }
      ]
    },
    {
      "cell_type": "markdown",
      "source": [
        "#APIS PARA INFORMACIÓN EN TIEMPO REAL.\n"
      ],
      "metadata": {
        "id": "uLH1tPxJsqc4"
      }
    },
    {
      "cell_type": "markdown",
      "source": [
        "##WIKIPEDIA"
      ],
      "metadata": {
        "id": "eTsLo_s7swbI"
      }
    },
    {
      "cell_type": "code",
      "source": [
        "!pip install wikipedia-api"
      ],
      "metadata": {
        "id": "GtoXxM4LgzFO"
      },
      "execution_count": null,
      "outputs": []
    },
    {
      "cell_type": "code",
      "source": [
        "import wikipediaapi\n",
        "\n",
        "# Configurar Wikipedia en español\n",
        "wiki = wikipediaapi.Wikipedia(\n",
        "    language='es',\n",
        "    user_agent=\"myWikipediaBot/1.0 (https://mi-sitio-ejemplo.com)\"\n",
        ")\n",
        "\n",
        "def buscar_wikipedia(tema):\n",
        "    pagina = wiki.page(tema)\n",
        "    if pagina.exists():\n",
        "        return f\"Resumen: {pagina.summary[:500]}...\"\n",
        "    else:\n",
        "        return \"No se encontró información sobre este tema.\"\n",
        "\n",
        "# Ejemplo de búsqueda\n",
        "tema = \"Inteligencia artificial\"\n",
        "print(buscar_wikipedia(tema))\n"
      ],
      "metadata": {
        "id": "dJMEa3Bnn1rB",
        "outputId": "5c537391-f3f9-4759-a092-79576832f92d",
        "colab": {
          "base_uri": "https://localhost:8080/"
        }
      },
      "execution_count": 13,
      "outputs": [
        {
          "output_type": "stream",
          "name": "stdout",
          "text": [
            "Resumen: La inteligencia artificial (abreviado: IA), en el contexto de las ciencias de la computación, es una disciplina y un conjunto de capacidades cognoscitivas e intelectuales expresadas por sistemas informáticos o combinaciones de algoritmos cuyo propósito es la creación de máquinas que imiten la inteligencia humana para realizar tareas, y que pueden mejorar conforme recopilen información.\n",
            "Estas tecnologías permiten que las máquinas aprendan de la experiencia, se adapten a nuevas entradas y realicen...\n"
          ]
        }
      ]
    },
    {
      "cell_type": "markdown",
      "source": [
        "##API DE CLIMATOLOGÍA (OPENWEATHERMAP): https://openweathermap.org/"
      ],
      "metadata": {
        "id": "0p89gopms013"
      }
    },
    {
      "cell_type": "code",
      "source": [
        "import requests\n",
        "\n",
        "def obtener_clima(ciudad):\n",
        "    api_key = \"a4607d221acd6a6d97cf632ed56b1120\"\n",
        "    url = f\"http://api.openweathermap.org/data/2.5/weather?q={ciudad}&appid={api_key}&lang=es\"\n",
        "    respuesta = requests.get(url).json()\n",
        "    if respuesta.get(\"main\"):\n",
        "        temperatura = respuesta[\"main\"][\"temp\"] - 273.15  # Convertir de Kelvin a Celsius\n",
        "        descripcion = respuesta[\"weather\"][0][\"description\"]\n",
        "        return f\"El clima en {ciudad} es {descripcion} con una temperatura de {temperatura:.2f}°C.\"\n",
        "    else:\n",
        "        return \"No se pudo obtener información sobre el clima.\"\n",
        "\n",
        "# Ejemplo\n",
        "print(obtener_clima(\"Badajoz\"))\n"
      ],
      "metadata": {
        "id": "R2pMV2-dn7eO",
        "outputId": "02dd8e41-7422-446f-cdc4-21a272761404",
        "colab": {
          "base_uri": "https://localhost:8080/"
        }
      },
      "execution_count": 24,
      "outputs": [
        {
          "output_type": "stream",
          "name": "stdout",
          "text": [
            "El clima en Badajoz es cielo claro con una temperatura de 33.29°C.\n"
          ]
        }
      ]
    },
    {
      "cell_type": "code",
      "source": [
        "import requests\n",
        "\n",
        "# Configuración de la clave API y ciudad\n",
        "api_key = \"a4607d221acd6a6d97cf632ed56b1120\"\n",
        "ciudad = \"Badajoz\"\n",
        "\n",
        "# Obtener latitud y longitud con la API de Geocoding\n",
        "url_geo = f\"http://api.openweathermap.org/geo/1.0/direct?q={ciudad}&limit=1&appid={api_key}\"\n",
        "respuesta_geo = requests.get(url_geo)\n",
        "datos_geo = respuesta_geo.json()\n",
        "\n",
        "if respuesta_geo.status_code == 200 and len(datos_geo) > 0:\n",
        "    lat = datos_geo[0]['lat']\n",
        "    lon = datos_geo[0]['lon']\n",
        "    print(f\"Ciudad: {ciudad}\")\n",
        "    print(f\"Latitud: {lat}, Longitud: {lon}\")\n",
        "\n",
        "    # Consultar la calidad del aire con las coordenadas\n",
        "    url_air = f\"http://api.openweathermap.org/data/2.5/air_pollution?lat={lat}&lon={lon}&appid={api_key}\"\n",
        "    respuesta_air = requests.get(url_air)\n",
        "    datos_air = respuesta_air.json()\n",
        "\n",
        "    if respuesta_air.status_code == 200:\n",
        "        aqi = datos_air['list'][0]['main']['aqi']\n",
        "        componentes = datos_air['list'][0]['components']\n",
        "        print(f\"Índice de Calidad del Aire (AQI): {aqi}\")\n",
        "        print(\"Concentraciones de contaminantes (µg/m³):\")\n",
        "        for contaminante, valor in componentes.items():\n",
        "            print(f\"  {contaminante}: {valor}\")\n",
        "    else:\n",
        "        print(\"Error al obtener los datos de calidad del aire.\")\n",
        "else:\n",
        "    print(\"Error al obtener las coordenadas de la ciudad.\")\n",
        "\n"
      ],
      "metadata": {
        "id": "a4Z5KO35r6cn",
        "outputId": "57d9af02-3b7b-4efb-ceb3-3ba239ea7043",
        "colab": {
          "base_uri": "https://localhost:8080/"
        }
      },
      "execution_count": 29,
      "outputs": [
        {
          "output_type": "stream",
          "name": "stdout",
          "text": [
            "Ciudad: Badajoz\n",
            "Latitud: 38.88964355, Longitud: -6.980142450723942\n",
            "Índice de Calidad del Aire (AQI): 2\n",
            "Concentraciones de contaminantes (µg/m³):\n",
            "  co: 91.35\n",
            "  no: 0.02\n",
            "  no2: 0.66\n",
            "  o3: 89.4\n",
            "  so2: 0.39\n",
            "  pm2_5: 8.48\n",
            "  pm10: 27.19\n",
            "  nh3: 3.01\n"
          ]
        }
      ]
    },
    {
      "cell_type": "markdown",
      "source": [
        "##NOTICIAS"
      ],
      "metadata": {
        "id": "qOFJJVZHzDMQ"
      }
    },
    {
      "cell_type": "markdown",
      "source": [
        "https://newsapi.org/docs/endpoints"
      ],
      "metadata": {
        "id": "8h258BarLCjr"
      }
    },
    {
      "cell_type": "markdown",
      "source": [
        "Buscar Noticias por Palabras Clave"
      ],
      "metadata": {
        "id": "UnnXu2-AKFb7"
      }
    },
    {
      "cell_type": "code",
      "source": [
        "import requests\n",
        "\n",
        "# Configuración\n",
        "api_key = \"2af1f7a971a24f518df05998f154b98a\"\n",
        "query = \"extremadura\"\n",
        "lengua = \"es\"\n",
        "url = f\"https://newsapi.org/v2/everything?q={query}&sortBy=relevance&language={lengua}&apiKey={api_key}\"\n",
        "\n",
        "# Realizar la solicitud\n",
        "respuesta = requests.get(url)\n",
        "datos = respuesta.json()\n",
        "\n",
        "# Procesar los resultados\n",
        "if datos.get(\"status\") == \"ok\":\n",
        "    print(f\"Resultados para '{query}':\")\n",
        "    for articulo in datos[\"articles\"][:5]:  # Mostrar los primeros 5 resultados\n",
        "        print(f\"- {articulo['title']}\")\n",
        "        print(f\"  Fecha: {articulo['publishedAt']}\")\n",
        "        print(f\"  Fuente: {articulo['source']['name']}\")\n",
        "        print(f\"  Descripción: {articulo['description']}\")\n",
        "        print(f\"  Link: {articulo['url']}\\n\")\n",
        "else:\n",
        "    print(\"Error al buscar noticias.\")\n"
      ],
      "metadata": {
        "colab": {
          "base_uri": "https://localhost:8080/"
        },
        "id": "BC--ruyiHsp0",
        "outputId": "8e507cec-4cc4-4484-8d14-35c1fb906028"
      },
      "execution_count": 30,
      "outputs": [
        {
          "output_type": "stream",
          "name": "stdout",
          "text": [
            "Resultados para 'extremadura':\n",
            "- AEMET alerta de un giro de 180 grados para el Puente de Mayo: lluvias de hasta 80l/m2 en estas regiones\n",
            "  Fecha: 2025-04-30T12:12:30Z\n",
            "  Fuente: Hipertextual\n",
            "  Descripción: En el puente de mayo, será primavera. Vamos, que tendremos lluvias y temperaturas altas, lo típico en esta época, en la que son normales estos cambios aparentemente bruscos en el tiempo. Sobre todo habrá muchas lluvias el viernes, cuando se esperan chubascos …\n",
            "  Link: http://hipertextual.com/2025/04/aemet-lluvias-puente-de-mayo\n",
            "\n",
            "- Una incidencia de Telefónica está afectando al teléfono de emergencias 112. Hay alternativas para los afectados\n",
            "  Fecha: 2025-05-20T07:42:57Z\n",
            "  Fuente: Xataka.com\n",
            "  Descripción: Una incidencia en la infraestructura de Telefónica está provocando algunos problemas en líneas fijas en diversas regiones de España. Especialmente llamativo es el impacto que esta incidencia está teniendo en el número de teléfono de emergencias, el 112.\n",
            "<!-- …\n",
            "  Link: https://www.xataka.com/moviles/incidencia-telefonica-esta-afectando-al-telefono-emergencias-112-hay-alternativas-para-afectados\n",
            "\n",
            "- El dato que ilustra la magnitud que ha vivido España con el apagón: un 60% menos de demanda en cinco segundos\n",
            "  Fecha: 2025-04-28T22:13:49Z\n",
            "  Fuente: Xataka.com\n",
            "  Descripción: Sobre las 22.53 de la noche, Pedro Sánchez ha vuelto a comparecer ante los españoles para comunicar novedades sobre el gran apagón en el que España lleva inmersa desde las 12.32 de la mañana.\n",
            "<!-- BREAK 1 -->\n",
            "El presidente del Gobierno, de nuevo sin aceptar p…\n",
            "  Link: https://www.xataka.com/energia/dato-que-ilustra-magnitud-que-ha-vivido-espana-apagon-60-demanda-cinco-segundos\n",
            "\n",
            "- Cercanías, Media y Larga Distancia, Alta Velocidad y Metro: esta es la situación de los trenes en España después del apagón\n",
            "  Fecha: 2025-04-29T07:33:15Z\n",
            "  Fuente: Xataka.com\n",
            "  Descripción: Trenes perdidos en mitad de la nada (sin posibilidad de rescate tres de ellos todavía por la noche), todos los servicios de Cercanías completamente parados y las grandes ciudades colapsadas en el tráfico rodado ante la falta de movilidad en el suburbano.\n",
            "<!--…\n",
            "  Link: https://www.xataka.com/movilidad/cercanias-media-larga-distancia-alta-velocidad-metro-esta-situacion-trenes-espana-despues-apagon\n",
            "\n",
            "- Hackeo desde dentro del Senado: despiden a dos trabajadores acusados de acceder a correos y documentos personales de senadores\n",
            "  Fecha: 2025-05-22T07:57:50Z\n",
            "  Fuente: Genbeta.com\n",
            "  Descripción: Este miércoles, el Senado se reunió de forma extraordinaria a las cinco y media de la tarde para tratar un asunto especialmente delicado: habían detectado a un par de informáticos que presuntamente habrían accedido sin autorización a las cuentas digitales de …\n",
            "  Link: https://www.genbeta.com/actualidad/hackeo-dentro-senado-despiden-a-dos-trabajadores-acusados-acceder-a-correos-documentos-personales-senadores\n",
            "\n"
          ]
        }
      ]
    },
    {
      "cell_type": "markdown",
      "source": [
        "###Noticias de Fuentes Específicas"
      ],
      "metadata": {
        "id": "baSHcr8DJ_v8"
      }
    },
    {
      "cell_type": "code",
      "source": [
        "import requests\n",
        "\n",
        "# Configuración\n",
        "api_key = \"2af1f7a971a24f518df05998f154b98a\"\n",
        "fuente = \"bbc-news\"  # Código de la fuente\n",
        "url = f\"https://newsapi.org/v2/top-headlines?sources={fuente}&apiKey={api_key}\"\n",
        "\n",
        "# Realizar la solicitud\n",
        "respuesta = requests.get(url)\n",
        "datos = respuesta.json()\n",
        "\n",
        "# Procesar los resultados\n",
        "if datos.get(\"status\") == \"ok\":\n",
        "    print(f\"Noticias de {fuente}:\")\n",
        "    for articulo in datos[\"articles\"][:5]:  # Mostrar los primeros 5 resultados\n",
        "        print(f\"- {articulo['title']}\")\n",
        "        print(f\"  Descripción: {articulo['description']}\")\n",
        "        print(f\"  Link: {articulo['url']}\\n\")\n",
        "else:\n",
        "    print(\"Error al buscar noticias.\")\n"
      ],
      "metadata": {
        "colab": {
          "base_uri": "https://localhost:8080/"
        },
        "id": "dovy4otwJ8-j",
        "outputId": "b7bb1271-01fc-44cd-faba-14ee52b88e62"
      },
      "execution_count": 31,
      "outputs": [
        {
          "output_type": "stream",
          "name": "stdout",
          "text": [
            "Noticias de bbc-news:\n",
            "- Swiss glacier collapse buries most of village of Blatten\n",
            "  Descripción: Many homes in Blatten have been flattened after a large chunk of the Birch glacier fell on to the village.\n",
            "  Link: https://www.bbc.co.uk/news/articles/cnv1evn2p2vo\n",
            "\n",
            "- Skittles-maker Mars phases out controversial colour additive\n",
            "  Descripción: Confectionery giant Mars said it had stopped using titanium dioxide in its Skittles portfolio in the US.\n",
            "  Link: https://www.bbc.co.uk/news/articles/c14kp3rdreeo\n",
            "\n",
            "- A1 Northumberland: Homes 'left to rot' on cancelled road route\n",
            "  Descripción: Three families speak of the \"utter hell\" of losing their homes to a road scheme that was cancelled.\n",
            "  Link: https://www.bbc.co.uk/news/articles/cly8yl2rv0jo\n",
            "\n",
            "- Fibre optic drones: The terrifying new weapon changing the war in Ukraine\n",
            "  Descripción: Swarms of fibre optic drones give Russia the edge as Ukraine defends towns just behind the front line.\n",
            "  Link: https://www.bbc.co.uk/news/articles/ckgn47e5qyno\n",
            "\n",
            "- Andrew and Tristan Tate to face 21 charges in UK, prosecutors say\n",
            "  Descripción: Prosecutors in the UK confirm they have authorised 21 charges against Andrew and Tristan Tate, including rape, actual bodily harm and human trafficking.\n",
            "  Link: https://www.bbc.co.uk/news/articles/ckg41g1140po\n",
            "\n"
          ]
        }
      ]
    }
  ],
  "metadata": {
    "colab": {
      "provenance": [],
      "include_colab_link": true
    },
    "kernelspec": {
      "display_name": "Python 3",
      "name": "python3"
    }
  },
  "nbformat": 4,
  "nbformat_minor": 0
}